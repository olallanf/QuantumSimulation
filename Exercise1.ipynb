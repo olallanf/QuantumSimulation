{
 "cells": [
  {
   "cell_type": "markdown",
   "id": "2ddca8da-9abc-4e7a-a5ac-2835e6f6bad1",
   "metadata": {},
   "source": [
    "**Exercise set 1: Olalla Nieto Faza**"
   ]
  },
  {
   "cell_type": "markdown",
   "id": "e65f224f-ecc2-44ac-b15e-423582b538bf",
   "metadata": {},
   "source": [
    "*Problem 1.1. Obtain the eigenstates and eigenvalues in the Landau-Zener model. Derive the bound in $\\delta=\\Delta^2/(4\\nu\\hbar) >>1$ from the general form of the adiabaticity condition studied in class.*"
   ]
  },
  {
   "cell_type": "markdown",
   "id": "07e4ac5d-be60-4b48-b647-2f272203a4f4",
   "metadata": {},
   "source": [
    "The Landau-Zener model represents a two-level system ruled by a time-dependent Hamiltonian: \n",
    "\n",
    "$$ \n",
    "H(t) =-\\frac{1}{2} \\begin{bmatrix} \\varepsilon(t) & \\Delta t \\\\ \\Delta t& -\\varepsilon(t) \\end{bmatrix}\n",
    "$$\n",
    "\n",
    "It is used to predict the probability of a transition between two quantum states during an avoided crossing when the system is subjected to a slowly varying external parameter.\n",
    "The function $\\varepsilon(t)=\\nu t$ with $t \\in (-\\infty,+\\infty)$,  called linear bias, is a time-dependent perturbation of the energy levels of the system. In this case, the change in the energy difference between the two states changes linearly with time. As the energy bias changes, the system can tunnel between two energy levels. \n",
    "\n",
    "$\\Delta t$ represents the coupling strength between the two states. It sets the minimum energy gap between the two instantaneous states.\n",
    "\n",
    "<!--- Depending on the context it can be the tunneling amplitude in a double well potential, the off-diagonal field interaction in a qbit or the Rabi coupling in an atom driven by a laser.\n",
    "-->\n",
    "\n",
    "\n",
    "This Hamiltonian can be expressed as a linear combination of Pauli matrices:\n",
    "\n",
    "$$\n",
    "H(t) =-\\frac{1}{2} \\begin{bmatrix} \\varepsilon(t) & \\Delta t \\\\ \\Delta t & -\\varepsilon(t) \\end{bmatrix} = \n",
    "-\\frac{1}{2}\\left[ \\Delta t \\begin{pmatrix}0 & 1 \\\\ 1 & 0\\end{pmatrix} + \\varepsilon(t) \\begin{pmatrix} 1 & 0 \\\\ 0 & -1 \\end{pmatrix} \\right] =\n",
    "-\\frac{\\Delta t}{2}\\sigma^x - \\frac{\\varepsilon(t)}{2}\\sigma^z\n",
    "$$\n",
    "\n",
    "\n"
   ]
  },
  {
   "cell_type": "markdown",
   "id": "b8c75675-d773-47e3-8cb4-10593245f209",
   "metadata": {},
   "source": [
    "<!---\n",
    "It can be interpreted  as a spin-1/2 particle in an effective magnetic field:\n",
    "$$\n",
    "H(t)=-\\frac{1}{2}\\vec{B}(t)\\vec{\\sigma}\n",
    "$$\n",
    "where $\\vec{B}=(\\Delta t, 0, \\varepsilon(t))$ is the effective field in the $xz$ plane\n",
    "-->"
   ]
  },
  {
   "cell_type": "markdown",
   "id": "e13c3b4c-16ed-40c4-af27-28666b83bd4c",
   "metadata": {},
   "source": [
    "In order to obtain the eigenvalues and eigenvectors, we solve the characteristic equation:\n",
    "$$\n",
    "\\det (H-\\lambda I) =0\n",
    "$$\n",
    "\n",
    "$$\n",
    "\\det -\\frac{1}{2} \\begin{pmatrix} \\varepsilon(t) & \\Delta t \\\\ \\Delta t & -\\varepsilon(t) \\end{pmatrix}  -\\lambda\\begin{pmatrix}1 & 0 \\\\ 0 & 1\\end{pmatrix}   = 0\n",
    "$$\n",
    "\n",
    "$$\n",
    "\\det\\left( \\begin{pmatrix} -\\varepsilon(t)/2-\\lambda & -\\Delta t/2 \\\\ -\\Delta t /2 & \\varepsilon(t)/2- \\lambda \\end{pmatrix}    \\right) = 0\n",
    "$$\n",
    "\n",
    "$$\n",
    "\\left(-\\frac{\\varepsilon(t)}{2}-\\lambda \\right)\\left(\\frac{\\varepsilon(t)}{2} -\\lambda\\right)-  \\left(\\frac{\\Delta}{2} t\\right)^2 = 0\n",
    "$$\n",
    "\n",
    "This results in  $\\lambda^2 = \\frac{1}{4}\\left(\\varepsilon(t)^2 + \\Delta t^2 \\right)$ so that the eigenvalues $\\lambda_+$ and $\\lambda_-$ are (they are dependent on time):\n",
    "\n",
    "$$\n",
    "\\lambda_{\\pm}(t)=\\pm\\frac{1}{2}\\sqrt{\\varepsilon(t)^2+\\Delta t^2 }\n",
    "$$"
   ]
  },
  {
   "cell_type": "markdown",
   "id": "872683a1-30af-43a3-916e-49ab874564d1",
   "metadata": {},
   "source": [
    "These eigenvalues are the energies of the two-level system: $E\\pm(t)$"
   ]
  },
  {
   "cell_type": "markdown",
   "id": "da13b8fd-13e0-4e33-8197-cb700ab8937a",
   "metadata": {},
   "source": [
    "To get the eigenvectors we solve $H\\vec{v}=\\lambda\\vec{v}$ for $\\lambda_+(t)$ and $\\lambda_-(t)$, which we will call from now on $E_{\\pm}(t)$.\n",
    "$$\n",
    "\\left(H-E_{\\pm}I \\right)\\vec{v}_{\\pm} =0\n",
    "$$\n",
    "\n",
    "$$\n",
    "\\begin{pmatrix} -\\frac{\\varepsilon(t)+E_+(t)}{2} & -\\frac{\\Delta t}{2} \\\\ -\\frac{\\Delta t}{2} & \\frac{\\varepsilon(t)-E_+(t)}{2} \\end{pmatrix} \\vec{v}_+= 0 \n",
    "$$\n",
    "\n",
    "And we solve the system:\n",
    "$$\n",
    "\\left(-\\frac{\\varepsilon(t)}{2}-E_+(t)   \\right) v_1 -\\frac{\\Delta t}{2}v_2 =0  \n",
    "$$\n",
    "\n",
    "$$\n",
    "-\\frac{\\Delta t}{2}v_1 +\\left(-\\frac{\\varepsilon(t)}{2}-E_+(t)   \\right) v_2 =0 \n",
    "$$\n",
    "\n",
    "We get the ratio $v_1/v_2=\\frac{\\Delta t}{-\\varepsilon(t)-2E_+(t)}$ so \n",
    "$$\\vec{v}_+=\\begin{pmatrix}v_1 \\\\ v_2\\end{pmatrix} = \n",
    "\\begin{pmatrix} \\frac{\\Delta t}{-\\varepsilon(t)-2E_+(t) } \\\\ 1\\end{pmatrix} $$ \n",
    "Normalizing this vector, we can simplify the expressions defining an angle $\\theta$ so that \n",
    "\n",
    "$$\n",
    "\\tan\\theta= \\frac{\\Delta t}{\\varepsilon(t)}  \\implies  \\cos\\theta=\\frac{\\varepsilon(t)}{\\sqrt{\\varepsilon(t)^2+\\Delta t^2 }} \n",
    "\\quad  \\sin\\theta=\\frac{\\Delta t}{\\sqrt{\\varepsilon(t)^2+\\Delta t^2 }}\n",
    "$$"
   ]
  },
  {
   "cell_type": "markdown",
   "id": "b1b4c27b-9a37-491e-88f0-8d51f32ba138",
   "metadata": {},
   "source": [
    "And thus, $\\vec{v}_+=\\begin{pmatrix} \\cos\\left(\\frac{\\theta}{2}\\right) \\\\   \\sin\\left(\\frac{\\theta}{2}\\right)  \\end{pmatrix}$"
   ]
  },
  {
   "cell_type": "markdown",
   "id": "dfcced11-8049-4654-8f84-bb33bb5f91d4",
   "metadata": {},
   "source": [
    "Analogously  $\\vec{v}_-=\\begin{pmatrix} -\\sin\\left(\\frac{\\theta}{2}\\right) \\\\   \\cos\\left(\\frac{\\theta}{2}\\right)  \\end{pmatrix}$"
   ]
  },
  {
   "cell_type": "markdown",
   "id": "27178123-75f0-4b82-9b14-091ad04c53d2",
   "metadata": {},
   "source": [
    "So, the eigenvalues of the Landau-Zener system are:\n",
    "\n",
    "$E_\\pm(t)=\\pm\\frac{1}{2}\\sqrt{\\varepsilon(t)^2+\\Delta t^2 }$\n",
    "\n",
    "and the corresponding eigenvectors:\n",
    "\n",
    "$$\n",
    "\\left|\\psi_+\\right>= \\cos\\left(\\frac{\\theta}{2}\\right)\\left|0\\right>+\\sin\\left(\\frac{\\theta}{2}\\right)\\left|1\\right>\n",
    "$$\n",
    "$$\n",
    "\\left|\\psi_-\\right>= -\\sin\\left(\\frac{\\theta}{2}\\right)\\left|0\\right>+\\cos\\left(\\frac{\\theta}{2}\\right)\\left|1\\right>\n",
    "$$"
   ]
  },
  {
   "cell_type": "markdown",
   "id": "ddac9543-7f25-496a-a1ab-82ef99b6d7c7",
   "metadata": {},
   "source": [
    "If we don't want to use the trigonometric functions, we can use\n",
    "$$\n",
    "\\cos^2 \\left(\\frac{\\theta}{2}  \\right)= \\frac{1+\\cos\\theta}{2}\\quad ; \\quad \\sin^2 \\left(\\frac{\\theta}{2}  \\right)= \\frac{1-\\cos\\theta}{2}\n",
    "$$\n",
    "\n",
    "and rewrite the coefficients:\n",
    "\n",
    "$$\n",
    "\\cos\\left(\\frac{\\theta}{2}  \\right)= \\sqrt{\\frac{1+\\frac{\\varepsilon(t)}{\\sqrt{\\varepsilon(t)^2+\\Delta t^2}}}{2}}\n",
    "$$\n",
    "\n",
    "$$\n",
    "\\sin\\left(\\frac{\\theta}{2}  \\right)= \\sqrt{\\frac{1-\\frac{\\varepsilon(t)}{\\sqrt{\\varepsilon(t)^2+\\Delta t^2}}}{2}}\n",
    "$$\n",
    "\n",
    "The energy gap (difference between eigenvalues) is:\n",
    "$$\\Delta E(t)= E_+(t)-E_-(t)=\\sqrt{\\varepsilon(t)^2+\\Delta t^2}$$\n",
    "so we can simplify the eigenvectors as:\n",
    "$$\n",
    "\\left|E_{\\pm}(t)\\right> = \\gamma_{\\mp}(t)\\left|0\\right> \\mp \\gamma_{\\pm}(t)\\left|1\\right>\n",
    "$$\n",
    "where\n",
    "$$\n",
    "\\gamma_{\\pm}(t)=\\frac{1}{\\sqrt{2}}\\sqrt{1 \\pm \\frac{\\varepsilon(t)}{E(t)}}\n",
    "$$\n"
   ]
  },
  {
   "cell_type": "markdown",
   "id": "9b9faa80-5f77-411b-b5e8-8d65e88d7bb6",
   "metadata": {},
   "source": [
    "The general **adiabaticity criterion** for a two-level system is:\n",
    "$$\n",
    "\\left| \\frac{\\left< E_{-}(t)|\\dot{H}(t)|E_{+}(t) \\right>}{\\left|E_{+}(t)-E_{-}(t)\\right|^2} \\right|<< 1\n",
    "$$\n",
    "That means that transitions between instantaneous states are avoided when the rate of change of the Hamiltonian is small in comparison with  the energy gap."
   ]
  },
  {
   "cell_type": "markdown",
   "id": "d6845ec9-1791-4f0f-a010-88ca84a7b107",
   "metadata": {},
   "source": [
    "The minimal gap occurs at $t=0$, when $\\varepsilon(0)=\\nu t=0$ and $\\Delta E(0)= \\Delta t$, and it is there that nonadiabatic transitions are most likely to happen.\n",
    "\n",
    "We first calculate the derivative of H(t) with respect to time ($\\varepsilon(t)=\\nu t$):\n",
    "\n",
    "$$\n",
    "\\dot{H}=-\\frac{1}{2}\\begin{pmatrix} \\dot{\\varepsilon}(t) & 0 \\\\ 0 & \\dot{\\varepsilon}(t)   \\end{pmatrix} = \n",
    "-\\frac{1}{2}\\begin{pmatrix} \\nu  & 0 \\\\ 0 & \\nu   \\end{pmatrix} = -\\frac{\\nu}{2}\\sigma^z\n",
    "$$\n",
    "\n",
    "We calculate then $\\left<E_-(t)|\\dot{H}(t)|E_+(t)\\right> = -\\frac{\\nu}{2}\n",
    "\\left<E_-(t)|\\sigma^z|E_+(t)\\right>$:"
   ]
  },
  {
   "cell_type": "markdown",
   "id": "a036da69-4b2e-41e2-84de-66d53d64d4d2",
   "metadata": {},
   "source": [
    "Using \n",
    "\n",
    "$$\n",
    "\\left|E_{-}(t)\\right> = \\gamma_{+}(t)\\left|0\\right> + \\gamma_{-}(t)\\left|1\\right>\n",
    "$$\n",
    "\n",
    "and\n",
    "$$\n",
    "\\left|E_{+}(t)\\right> = \\gamma_{-}(t)\\left|0\\right> - \\gamma_{+}(t)\\left|1\\right>\n",
    "$$"
   ]
  },
  {
   "cell_type": "markdown",
   "id": "ea8eb2a2-d036-4972-8e85-52d3ae00e4b5",
   "metadata": {},
   "source": [
    "$$\n",
    "\\left<E_-(t)|\\sigma^z|E_+(t)\\right>= \n",
    "\\left( \\gamma_+(t) \\left<0\\right| +  \\gamma_{-}(t)\\left<1\\right|\\right)\n",
    "\\sigma^z \\left(\\gamma_{-}(t)\\left|0\\right> - \\gamma_{+}(t)\\left|1\\right> \\right)=\n",
    "\\gamma_{+}(t)\\gamma_{-}(t) \\left<0|\\sigma^z|0\\right> - \\gamma_{+}(t)^2\\left<0|\\sigma^z|1\\right> + \\gamma_{-}(t)^2\\left<1|\\sigma^z|0\\right> -  \\gamma_{-}(t)\\gamma_{+}(t) \\left<1|\\sigma^z|1\\right>\n",
    "$$\n",
    "\n",
    "Since $\\sigma^z \\left|0\\right> = \\left|0\\right>$ , $\\sigma^z \\left|1\\right> = -\\left|0\\right>$ and $\\left|0\\right>$ and $\\left|1\\right>$ are orthonormal, we get that:\n",
    "\n",
    "$$\n",
    "\\left<E_-(t)|\\sigma^z|E_+(t)\\right>= \\gamma_{+}(t)\\gamma_{-}(t) + \\gamma_{-}(t)\\gamma_{+}(t) = 2\\gamma_{+}(t)\\gamma_{-}(t) \n",
    "$$\n",
    "\n",
    "As a result, \n",
    "\n",
    "$$\n",
    "\\left<E_-(t)|\\dot{H}(t)|E_+(t)\\right> = -\\nu\\gamma_{+}(t)\\gamma_{-}(t) \n",
    "$$\n",
    "\n",
    "The highest probability for a surface hop corresponds to the point of minimal gap $t=0 \\implies \\varepsilon(t)=0$ and $t=0 \\implies \\Delta E(t)=\\Delta t$ . At this point, the expression gets simplified to:\n",
    "\n",
    "$$\n",
    "\\left<E_-(t)|\\dot{H}(t)|E_+(t)\\right> = -\\nu \\frac{1}{\\sqrt{2}}\\sqrt{1 + \\frac{\\varepsilon(t)}{\\Delta E(t)}} \\frac{1}{\\sqrt{2}}\\sqrt{1 - \\frac{\\varepsilon(t)}{\\Delta E(t)}}\n",
    "=\\nu\\frac{1}{2}\n",
    "$$\n",
    "\n",
    "Dividing it by the energy gap, we get:\n",
    "\n",
    "$$\n",
    "\\frac{\\left<E_-(t)|\\dot{H}(t)|E_+(t)\\right>}{\\left|E_{+}(t)-E_{-}(t)\\right|^2} = \n",
    "\\frac{\\nu/2}{\\Delta t^2} << 1\n",
    "$$\n",
    "\n",
    "Which can be recast as:\n",
    "\n",
    "$$\n",
    "\\frac{\\Delta t^2 }{2\\nu \\hbar} >> 1\n",
    "$$\n",
    "\n",
    "if we reintroduce $\\hbar$\n",
    "\n",
    "<!--- And restoring the $\\hbar$ we get that:\n",
    "\n",
    "$$\n",
    "\\frac{\\nu\\hbar}{2\\Delta t^2} << 1\n",
    "$$\n",
    "\n",
    "-->"
   ]
  },
  {
   "cell_type": "markdown",
   "id": "850efd96-9f71-49f5-890d-ce40d585ad78",
   "metadata": {},
   "source": [
    "The transition probability in the Landau-Zener model is \n",
    "$$\n",
    "P_{LZ}= \\exp\\left(-\\frac{\\pi\\Delta t^2}{2\\hbar \\nu} \\right)\n",
    "$$"
   ]
  },
  {
   "cell_type": "markdown",
   "id": "85ed2379-f2c3-47a4-b60b-fc66bb49977e",
   "metadata": {},
   "source": []
  }
 ],
 "metadata": {
  "kernelspec": {
   "display_name": "Python 3 (ipykernel)",
   "language": "python",
   "name": "python3"
  },
  "language_info": {
   "codemirror_mode": {
    "name": "ipython",
    "version": 3
   },
   "file_extension": ".py",
   "mimetype": "text/x-python",
   "name": "python",
   "nbconvert_exporter": "python",
   "pygments_lexer": "ipython3",
   "version": "3.12.7"
  }
 },
 "nbformat": 4,
 "nbformat_minor": 5
}
