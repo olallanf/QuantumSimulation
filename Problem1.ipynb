{
 "cells": [
  {
   "cell_type": "markdown",
   "id": "f8c66074-197e-4349-9a92-3b88cbab7b49",
   "metadata": {},
   "source": [
    "**Problem set 2: Olalla Nieto Faza**"
   ]
  },
  {
   "cell_type": "code",
   "execution_count": 7,
   "id": "3d53fb27-c65c-458c-bf1d-14a612ba231e",
   "metadata": {},
   "outputs": [
    {
     "name": "stdout",
     "output_type": "stream",
     "text": [
      "3.12.7 | packaged by Anaconda, Inc. | (main, Oct  4 2024, 13:17:27) [MSC v.1929 64 bit (AMD64)]\n",
      "0.17.0\n"
     ]
    }
   ],
   "source": [
    "# Import libraries\n",
    "import qiskit\n",
    "from qiskit.quantum_info import SparsePauliOp , Pauli\n",
    "from qiskit.quantum_info import PauliList , Operator\n",
    "\n",
    "import pandas as pd\n",
    "import itertools\n",
    "import numpy as np\n",
    "from numpy import linalg as LA\n",
    "\n",
    "from qiskit import QuantumCircuit\n",
    "from qiskit import QuantumRegister, ClassicalRegister\n",
    "from qiskit.circuit import Parameter\n",
    "from qiskit.circuit import ParameterVector\n",
    "from qiskit.compiler import transpile\n",
    "from qiskit.visualization import plot_histogram\n",
    "\n",
    "import matplotlib.pyplot as plt\n",
    "\n",
    "import sys\n",
    "print(sys.version)\n",
    "\n",
    "import qiskit_aer\n",
    "print(qiskit_aer.__version__)\n",
    "\n",
    "from qiskit_aer import AerSimulator"
   ]
  },
  {
   "cell_type": "markdown",
   "id": "ea727671-9162-41f1-aa93-76b363bf46c7",
   "metadata": {},
   "source": [
    "*2.1.1:  First, prove that:*\n",
    "$$\n",
    "e^{-itZ\\otimes Z}=(C_1X_0)\\left(e^{-it I\\otimes Z} \\right)(C_1X_0)=(C_1X_0)(I \\otimes R_z(2t))(C_1X_0)\n",
    "$$\n",
    "\n"
   ]
  },
  {
   "cell_type": "markdown",
   "id": "e68953a8-7ba5-429c-88e8-65d13e90204e",
   "metadata": {},
   "source": [
    "**Step 1: Some useful things** \n",
    "\n",
    "**a)** $C_1X_0$ is a controlled-X (CNOT) gate with qubit 1 as the control qubit and qubit 0 as the target (if qubit 1 is $\\ket{0}$, do nothing to qubit 0, if qubit 1 is $\\ket{1}$, apply X (NOT) to qubit 0). This can be expressed as:\n",
    "\n",
    "$$\n",
    "C_1X_0= \\ket{0}\\bra{0}_1 \\otimes I_0 + \\ket{1}\\bra{1}_1 \\otimes X_0\n",
    "$$\n",
    "\n",
    "The projectors $\\ket{0}\\bra{0}$ and $\\ket{1}\\bra{1}$, I and X are all Hermitian and unitary, so\n",
    "\n",
    "$$\n",
    "(C_1X_0)^{\\dagger}=C_1X_0         \\quad\\quad \\text{is Hermitian}\n",
    "$$\n",
    "\n",
    "$$\n",
    "(C_1X_0)^{\\dagger}(C_1X_0)=I         \\quad\\quad \\text{is unitary}\n",
    "$$\n",
    "\n"
   ]
  },
  {
   "cell_type": "markdown",
   "id": "d247b88b-9f1e-400c-8105-011b4e0eb574",
   "metadata": {},
   "source": [
    "**b)**  For a linear operator A and a unitary U:\n",
    "$$\n",
    "Ue^{A}U^{\\dagger}=e^{UAU^{\\dagger}}\n",
    "$$\n",
    "This can be shown using the definition of the matrix exponential\n",
    "$$\n",
    "e^{A}=\\sum_{n=0}^{\\infty}\\frac{A^n}{n!}\n",
    "$$\n",
    "and applying the similarity transformation with the unitarian matrix U\n",
    "\n",
    "$$\n",
    "Ue^{A}U^{\\dagger}=U\\left(\\sum_{n=0}^{\\infty}\\frac{A^n}{n!}\\right)U^{\\dagger} = \\sum_{n=0}^{\\infty}\\frac{UA^nU^{\\dagger}}{n!}\n",
    "$$\n",
    "\n",
    "As U is unitary  $ UA^nU^{\\dagger}=\\left(UAU^{\\dagger}  \\right)^n$ so the series becomes:\n",
    "\n",
    "$$\n",
    "Ue^{A}U^{\\dagger}=\\sum_{n=0}^{\\infty}\\frac{\\left(UAU^{\\dagger}\\right)^n}{n!} = e^{UAU^{\\dagger}}\n",
    "$$\n",
    "\n"
   ]
  },
  {
   "cell_type": "markdown",
   "id": "d129f3f4-4347-4895-adc7-816071982244",
   "metadata": {},
   "source": [
    "**c)**\n",
    "Under conjugation with CNOT:\n",
    "$$\n",
    "\\text{CNOT}_{1\\rightarrow 0}(Z \\otimes I) \\text{CNOT}_{1\\rightarrow 0} = Z \\otimes Z\n",
    "$$\n",
    "\n",
    "$$\n",
    "\\text{CNOT}_{1\\rightarrow 0}(I \\otimes Z) \\text{CNOT}_{1\\rightarrow 0} = I \\otimes Z\n",
    "$$\n",
    "$$\n",
    "\\text{CNOT}_{1\\rightarrow 0}(X \\otimes I) \\text{CNOT}_{1\\rightarrow 0} = X \\otimes I\n",
    "$$\n",
    "\n",
    "$$\n",
    "\\text{CNOT}_{1\\rightarrow 0}(I \\otimes X) \\text{CNOT}_{1\\rightarrow 0} = X \\otimes X\n",
    "$$\n",
    "\n",
    "\n",
    "So that:\n",
    "\n",
    "$$\n",
    "(C_1X_0)(Z\\otimes Z)(C_1X_0) = I\\otimes Z\n",
    "$$\n",
    "\n",
    "Checking it with matrices:"
   ]
  },
  {
   "cell_type": "code",
   "execution_count": 2,
   "id": "fae6b451-cfbc-4a2f-80e2-189f3d7933e6",
   "metadata": {},
   "outputs": [
    {
     "name": "stdout",
     "output_type": "stream",
     "text": [
      "ZxZ=\n",
      "[[ 1  0  0  0]\n",
      " [ 0 -1  0  0]\n",
      " [ 0  0 -1  0]\n",
      " [ 0  0  0  1]]\n",
      "IxZ=\n",
      "[[ 1  0  0  0]\n",
      " [ 0 -1  0  0]\n",
      " [ 0  0  1  0]\n",
      " [ 0  0  0 -1]]\n",
      "CNOT =\n",
      "[[1 0 0 0]\n",
      " [0 1 0 0]\n",
      " [0 0 0 1]\n",
      " [0 0 1 0]]\n",
      "CNOT· (Z x Z) · CNOT= IxZ\n",
      "[[ 1  0  0  0]\n",
      " [ 0 -1  0  0]\n",
      " [ 0  0  1  0]\n",
      " [ 0  0  0 -1]]\n"
     ]
    }
   ],
   "source": [
    "# define Pauli matrices:\n",
    "sx = np.array([[0, 1], [1, 0]])\n",
    "sz = np.array([[1, 0], [0, -1]])\n",
    "si = np.array([[1, 0], [0, 1]])\n",
    "# Define the CNOT gate matrix\n",
    "CNOT = np.array([[1, 0, 0, 0],\n",
    "                 [0, 1, 0, 0],\n",
    "                 [0, 0, 0, 1],\n",
    "                 [0, 0, 1, 0]])\n",
    "\n",
    "ZxZ=np.kron(sz,sz)\n",
    "IxZ=np.kron(si,sz)\n",
    "\n",
    "print(\"ZxZ=\")\n",
    "print(ZxZ)\n",
    "print(\"IxZ=\")\n",
    "print(IxZ)\n",
    "\n",
    "print(\"CNOT =\")\n",
    "print(CNOT)\n",
    "\n",
    "\n",
    "product=np.matmul(CNOT, np.matmul(ZxZ,CNOT))\n",
    "print(\"CNOT· (Z x Z) · CNOT= IxZ\")\n",
    "print(product)\n"
   ]
  },
  {
   "cell_type": "markdown",
   "id": "d4c4e390-d537-4baf-948a-e85e3c51f962",
   "metadata": {},
   "source": [
    "**d)**\n",
    "\n",
    "If we apply the definition of the exponential of an operator $e^{A}=\\sum_{n=0}^{\\infty}\\frac{A^n}{n!}$  to  $e^{-it I\\otimes Z}$:\n",
    "\n",
    "\n",
    "$$\n",
    "e^{-it I\\otimes Z}= \\sum_{n=0}^{\\infty}\\frac{(-it)^n (I\\otimes Z)^n}{n!}\n",
    "$$\n",
    "\n",
    "Since I acts only on the subspace of qubit 1 and Z on the subspace of qubit 0, we can separate this expression into:\n",
    "\n",
    "$$\n",
    "(I\\otimes Z)^n = I^n \\otimes Z^n = I \\otimes Z^n\n",
    "$$\n",
    "\n",
    "As a result:\n",
    "$$\n",
    "e^{-it I\\otimes Z}= \\sum_{n=0}^{\\infty}\\frac{(-it)^n }{n!}I \\otimes Z^n=\n",
    "I\\otimes \\left( \\sum_{n=0}^{\\infty}\\frac{(-it)^nZ^n}{n!}  \\right)=\n",
    "I\\otimes e^{-itZ}\n",
    "$$\n",
    "\n"
   ]
  },
  {
   "cell_type": "markdown",
   "id": "46f87865-a513-4382-bd44-211ee0ab43a6",
   "metadata": {},
   "source": [
    "**Step 2:**\n",
    "\n",
    "We start from  $(C_1X_0)\\left(e^{-it I\\otimes Z}\\right) (C_1X_0)$ and use **a)** and **b)** so that:\n",
    "\n",
    "\n",
    "$$\n",
    "(C_1X_0)\\left(e^{-it I\\otimes Z}\\right) (C_1X_0)=(C_1X_0)\\left(e^{-it I\\otimes Z} \\right)(C_1X_0)^{\\dagger}=e^{ (C_1X_0)(-it I\\otimes Z)(C_1X_0)^{\\dagger} }=\n",
    "e^{ -it(C_1X_0)(I\\otimes Z)(C_1X_0) }\n",
    "$$\n",
    "\n",
    "\n",
    "Using **c)** we get that \n",
    "$$\n",
    "(C_1X_0)(I\\otimes Z)(C_1X_0)= Z\\otimes Z\n",
    "$$\n",
    "which we can replace in the previous expression, so that:\n",
    "$$\n",
    "(C_1X_0)\\left(e^{-it I\\otimes Z}\\right) (C_1X_0)=e^{ -it(Z\\otimes Z) }\n",
    "$$\n",
    "So we have proven the first equality in our statement.\n",
    "\n"
   ]
  },
  {
   "cell_type": "markdown",
   "id": "96c8c5f2-7532-40ac-891e-b8ba0a12119a",
   "metadata": {},
   "source": [
    "**Step 3:**    \n",
    "\n",
    "Now, we use **d)** to transform:\n",
    "$$\n",
    "e^{-it I\\otimes Z} = I \\otimes e^{-it Z}\n",
    "$$\n",
    "\n",
    "The single-qubit rotation around the Z-axis is defined as:\n",
    "\n",
    "$$\n",
    "R_z(\\theta)=e^{-i\\frac{\\theta}{2}Z} = \n",
    "\\begin{pmatrix} e^{-i\\theta/2} &  0 \\\\ 0 &  e^{i\\theta/2}\\end{pmatrix}\n",
    "$$\n",
    "So:\n",
    "\n",
    "$$\n",
    "R_z(2t)=e^{-itZ}\n",
    "$$\n",
    "\n",
    "Substituting, we get that:\n",
    "\n",
    "$$\n",
    "e^{-it I\\otimes Z}=I\\otimes e^{-it Z}= I\\otimes R_z(2t)\n",
    "$$\n",
    "\n",
    "\n",
    "So from the expression in **step 2** \n",
    "\n",
    "$$\n",
    "(C_1X_0)\\left(e^{-it I\\otimes Z}\\right) (C_1X_0)=e^{ -it(Z\\otimes Z) }\n",
    "$$\n",
    "\n",
    "$$\n",
    "e^{ -it(Z\\otimes Z) }=(C_1X_0)\\left(e^{-it I\\otimes Z}\\right) (C_1X_0)=\n",
    "(C_1X_0)\\left(I\\otimes R_z(2t)\\right)(C_1X_0)\n",
    "$$"
   ]
  },
  {
   "cell_type": "markdown",
   "id": "edfffafe-7606-4af9-9dd3-3a483b912e42",
   "metadata": {},
   "source": [
    "*2.1.2. Then, decompose $e^{-itZ\\otimes Z \\otimes Z \\otimes Z}$ in terms of CNOT gates and single-qubit gates, and draw the corresponding circuit* "
   ]
  },
  {
   "cell_type": "markdown",
   "id": "2971b90e-d884-4bf7-9044-375437314715",
   "metadata": {},
   "source": [
    "In the operator $e^{-itZ\\otimes Z \\otimes Z \\otimes Z}$  each of the Z operators acts on a single qubit, we can express it as $e^{-itZ_0Z_1Z_2Z_3}$. \n",
    "\n",
    "The Z operator acts as:\n",
    "\n",
    "$$\n",
    "Z\\ket{0}=\\ket{0}  \\quad,\\quad Z\\ket{1}=-\\ket{1}\n",
    "$$\n",
    "\n",
    "As a result, $Z\\otimes Z \\otimes Z \\otimes Z$ measures the parity of the numbers of ones in the basis state (an even number of 1s leads to +1 eigenvalue and an odd number of 1s leads to -1).\n",
    "\n",
    "$$\n",
    "Z\\otimes Z \\otimes Z \\otimes Z \\ket{x_0x_1x_2x_3}=(-1)^{x_0+x_1+x_2+x_3}\\ket{x_0x_1x_2x_3}\n",
    "$$\n",
    "\n",
    "Since $Z_0Z_1Z_2Z_3$ is Hermitian and unitary, and diagonal in the computatioanl basis (eigenvalues $\\pm 1$) we can easily use the spectral decomposition for its exponentiation.  If $U=e^{-itZ_0Z_1Z_2Z_3}$ is applied to a state in the computational basis:\n",
    "\n",
    "$$\n",
    "U\\ket{x}=e^{-it\\lambda(x)}\\ket{x} = e^{-it(-1)^{x_0+x_1+x_2+x_3}}\\ket{x}\n",
    "$$\n",
    "\n",
    "The effect of this exponential operator is to apply a complex phase depending on the parity of 1s in the input state, it is a controlled-phase operation based on parity: if all qubits are in some state with even parity the phase applied is $e^{-it}$, if they are in a state with odd parity, the phase is $e^{it}$. \n",
    "\n",
    "As a result, we can reproduce its effect by computing the parity of the four qubit state using CNOT gates, then apply a phase rotation $R_z(2t)$ depending on the parity and then reverse the computation of the parity.\n"
   ]
  },
  {
   "cell_type": "markdown",
   "id": "6d51d2d4-5588-473f-8086-d9c767195c90",
   "metadata": {},
   "source": [
    "We can perform this decomposition using our previous result for two qubits:\n",
    "\n",
    "$$\n",
    "e^{ -it(Z_0Z_1) }=\\text{CNOT}_{0\\rightarrow 1}\\left(I\\otimes R_z(2t)\\right)\\text{CNOT}_{0\\rightarrow 1}\n",
    "$$\n",
    "\n",
    "If we extend it to a   **three qubit** operator we want to reduce it to a rotation on just one qubit and CNOTs, so we need to look for a U that makes the following true:\n",
    "\n",
    "$$\n",
    "e^{ -it(Z\\otimes Z \\otimes Z) }= e^{ -it(Z_0Z_1Z_2) }= Ue^{ -it(Z_2) }U^{\\dagger}\n",
    "$$\n",
    "\n",
    "\n",
    "If we define a $U=\\text{CNOT}_{0\\rightarrow 2}\\text{CNOT}_{1\\rightarrow 2}$\n",
    "\n",
    "$$\n",
    "UZ_2U^{\\dagger}=\\text{CNOT}_{0\\rightarrow 2}\\text{CNOT}_{1\\rightarrow 2}Z_2 \\text{CNOT}_{1\\rightarrow 2}\\text{CNOT}_{0\\rightarrow 2}=\n",
    "\\text{CNOT}_{0\\rightarrow 2}Z_1 Z_2 \\text{CNOT}_{0\\rightarrow 2}=\n",
    "Z_0Z_1Z_2\n",
    "$$\n",
    "\n",
    "So through exponentiation:\n",
    "\n",
    "$$\n",
    "UZ_2U^{\\dagger}= Z_0Z_1Z_2  \\implies e^{-itZ_0Z_1Z_2}=Ue^{-itZ_2} U^{\\dagger}\n",
    "$$\n",
    "\n",
    "That gives\n",
    "\n",
    "$$\n",
    "e^{-itZ_0Z_1Z_2}=\\text{CNOT}_{0\\rightarrow 2}\\text{CNOT}_{1\\rightarrow 2}e^{-itZ_2}\n",
    "\\text{CNOT}_{1\\rightarrow 2}\\text{CNOT}_{0\\rightarrow 2}\n",
    "$$\n",
    "\n",
    "$$\n",
    "e^{-itZ_0Z_1Z_2}=\\text{CNOT}_{0\\rightarrow 2}\\text{CNOT}_{1\\rightarrow 2}R_z(2t)_2\n",
    "\\text{CNOT}_{1\\rightarrow 2}\\text{CNOT}_{0\\rightarrow 2}\n",
    "$$\n",
    "\n",
    "\n",
    "And for the **four qubit** case, with a parallel approach $U=\\text{CNOT}_{0\\rightarrow 3}\\text{CNOT}_{1\\rightarrow 3}\\text{CNOT}_{2\\rightarrow 3}$ and the desired decomposition would be:\n",
    "\n",
    "$$\n",
    "e^{-itZ_0Z_1Z_2Z_3}=\\text{CNOT}_{0\\rightarrow 3}\\text{CNOT}_{1\\rightarrow 3}\\text{CNOT}_{2\\rightarrow 3}Rz(2t)_3\\text{CNOT}_{2\\rightarrow 3}\\text{CNOT}_{1\\rightarrow 3}\\text{CNOT}_{0\\rightarrow 3}\n",
    "$$\n"
   ]
  },
  {
   "cell_type": "markdown",
   "id": "9acf764c-dcb6-4b9c-84e6-60e0c526251e",
   "metadata": {},
   "source": [
    "Now we prepare the corresponding quantum circuit:"
   ]
  },
  {
   "cell_type": "code",
   "execution_count": 4,
   "id": "fb9aa02e-d0d8-4db9-ad70-2009ac0ff7af",
   "metadata": {},
   "outputs": [
    {
     "data": {
      "image/png": "[encoded data removed]",
      "text/plain": [
       "<Figure size 705.552x367.889 with 1 Axes>"
      ]
     },
     "execution_count": 4,
     "metadata": {},
     "output_type": "execute_result"
    }
   ],
   "source": [
    "qc = QuantumCircuit(4)\n",
    "# We need to define parameter t, we choose an arbitrary value at this point.\n",
    "# The actual value of the angle is going to change the phase, not the actual state.\n",
    "t = np.pi / 4 \n",
    "\n",
    "# We apply the CNOT gates\n",
    "#------------------------------\n",
    "qc.cx(0, 3)\n",
    "qc.cx(1, 3)\n",
    "qc.cx(2, 3)\n",
    "\n",
    "# We apply the rotation Rz(2t) on qubit 3\n",
    "#-----------------------------------------\n",
    "qc.rz(2 * t, 3)\n",
    "\n",
    "# Apply CNOTs again in reverse order\n",
    "qc.cx(2, 3)\n",
    "qc.cx(1, 3)\n",
    "qc.cx(0, 3)\n",
    "\n",
    "# Draw the circuit\n",
    "qc.draw('mpl')\n"
   ]
  },
  {
   "cell_type": "markdown",
   "id": "7ea85e10-64ef-4a51-ace4-eadcb9a0ee38",
   "metadata": {},
   "source": [
    "Now we get the matrix corresponding to the circuit and we compare it with the matrix obtained analytically for the operator $e^{-itZ_0Z_1Z_2Z_3}$"
   ]
  },
  {
   "cell_type": "code",
   "execution_count": 15,
   "id": "6c5be9ff-aa95-4184-a272-23c1816f7759",
   "metadata": {},
   "outputs": [
    {
     "name": "stdout",
     "output_type": "stream",
     "text": [
      "Matrices are equal (within numerical tolerance).\n"
     ]
    }
   ],
   "source": [
    "from scipy.linalg import expm\n",
    "\n",
    "# Get the unitary transformation associated to the whole circuit:\n",
    "circuit_unitary = Operator(qc).data\n",
    "#print(unitary)\n",
    "\n",
    "# Now we build the matrix with Kronecker products and exponentiation:\n",
    "\n",
    "ZxZ=np.kron(sz,sz)\n",
    "ZxZxZ=np.kron(sz,ZxZ)\n",
    "ZxZxZxZ=np.kron(sz,ZxZxZ)\n",
    "\n",
    "expZZZZ=expm(-1j*t*ZxZxZxZ)\n",
    "#print(expZZZZ)\n",
    "\n",
    "# And now we compare the two matrices using np.allclose\n",
    "# (a numerical comparison with tolerance)\n",
    "#-------------------------------------------------------\n",
    "are_equal = np.allclose(circuit_unitary,expZZZZ , atol=1e-10)\n",
    "if are_equal:\n",
    "    print(\"Matrices are equal (within numerical tolerance).\")\n",
    "else:\n",
    "    print(\"Matrices are different.\")\n"
   ]
  },
  {
   "cell_type": "markdown",
   "id": "9a49bd6d-d3a0-40f9-b23c-21f8369996d8",
   "metadata": {},
   "source": [
    "We find that the circuit is a good decomposition for this matrix."
   ]
  }
 ],
 "metadata": {
  "kernelspec": {
   "display_name": "Python 3 (ipykernel)",
   "language": "python",
   "name": "python3"
  },
  "language_info": {
   "codemirror_mode": {
    "name": "ipython",
    "version": 3
   },
   "file_extension": ".py",
   "mimetype": "text/x-python",
   "name": "python",
   "nbconvert_exporter": "python",
   "pygments_lexer": "ipython3",
   "version": "3.12.7"
  }
 },
 "nbformat": 4,
 "nbformat_minor": 5
}
